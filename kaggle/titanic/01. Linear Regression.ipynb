{
 "cells": [
  {
   "cell_type": "markdown",
   "metadata": {},
   "source": [
    "# Анализ данных и линейная регрессия"
   ]
  },
  {
   "cell_type": "markdown",
   "metadata": {},
   "source": [
    "В этом ноутбуке я попытаюсь исследовать датасет, скачанный отсюда: https://www.kaggle.com/budincsevity/szeged-weather"
   ]
  },
  {
   "cell_type": "code",
   "execution_count": 58,
   "metadata": {},
   "outputs": [],
   "source": [
    "import pandas as pd\n",
    "import numpy as np\n",
    "import matplotlib.pyplot as plt"
   ]
  },
  {
   "cell_type": "code",
   "execution_count": 10,
   "metadata": {},
   "outputs": [
    {
     "data": {
      "text/html": [
       "<div>\n",
       "<style scoped>\n",
       "    .dataframe tbody tr th:only-of-type {\n",
       "        vertical-align: middle;\n",
       "    }\n",
       "\n",
       "    .dataframe tbody tr th {\n",
       "        vertical-align: top;\n",
       "    }\n",
       "\n",
       "    .dataframe thead th {\n",
       "        text-align: right;\n",
       "    }\n",
       "</style>\n",
       "<table border=\"1\" class=\"dataframe\">\n",
       "  <thead>\n",
       "    <tr style=\"text-align: right;\">\n",
       "      <th></th>\n",
       "      <th>Formatted Date</th>\n",
       "      <th>Summary</th>\n",
       "      <th>Precip Type</th>\n",
       "      <th>Temperature (C)</th>\n",
       "      <th>Apparent Temperature (C)</th>\n",
       "      <th>Humidity</th>\n",
       "      <th>Wind Speed (km/h)</th>\n",
       "      <th>Wind Bearing (degrees)</th>\n",
       "      <th>Visibility (km)</th>\n",
       "      <th>Loud Cover</th>\n",
       "      <th>Pressure (millibars)</th>\n",
       "      <th>Daily Summary</th>\n",
       "    </tr>\n",
       "  </thead>\n",
       "  <tbody>\n",
       "    <tr>\n",
       "      <th>0</th>\n",
       "      <td>2006-04-01 00:00:00.000 +0200</td>\n",
       "      <td>Partly Cloudy</td>\n",
       "      <td>rain</td>\n",
       "      <td>9.472222</td>\n",
       "      <td>7.388889</td>\n",
       "      <td>0.89</td>\n",
       "      <td>14.1197</td>\n",
       "      <td>251.0</td>\n",
       "      <td>15.8263</td>\n",
       "      <td>0.0</td>\n",
       "      <td>1015.13</td>\n",
       "      <td>Partly cloudy throughout the day.</td>\n",
       "    </tr>\n",
       "    <tr>\n",
       "      <th>1</th>\n",
       "      <td>2006-04-01 01:00:00.000 +0200</td>\n",
       "      <td>Partly Cloudy</td>\n",
       "      <td>rain</td>\n",
       "      <td>9.355556</td>\n",
       "      <td>7.227778</td>\n",
       "      <td>0.86</td>\n",
       "      <td>14.2646</td>\n",
       "      <td>259.0</td>\n",
       "      <td>15.8263</td>\n",
       "      <td>0.0</td>\n",
       "      <td>1015.63</td>\n",
       "      <td>Partly cloudy throughout the day.</td>\n",
       "    </tr>\n",
       "    <tr>\n",
       "      <th>2</th>\n",
       "      <td>2006-04-01 02:00:00.000 +0200</td>\n",
       "      <td>Mostly Cloudy</td>\n",
       "      <td>rain</td>\n",
       "      <td>9.377778</td>\n",
       "      <td>9.377778</td>\n",
       "      <td>0.89</td>\n",
       "      <td>3.9284</td>\n",
       "      <td>204.0</td>\n",
       "      <td>14.9569</td>\n",
       "      <td>0.0</td>\n",
       "      <td>1015.94</td>\n",
       "      <td>Partly cloudy throughout the day.</td>\n",
       "    </tr>\n",
       "    <tr>\n",
       "      <th>3</th>\n",
       "      <td>2006-04-01 03:00:00.000 +0200</td>\n",
       "      <td>Partly Cloudy</td>\n",
       "      <td>rain</td>\n",
       "      <td>8.288889</td>\n",
       "      <td>5.944444</td>\n",
       "      <td>0.83</td>\n",
       "      <td>14.1036</td>\n",
       "      <td>269.0</td>\n",
       "      <td>15.8263</td>\n",
       "      <td>0.0</td>\n",
       "      <td>1016.41</td>\n",
       "      <td>Partly cloudy throughout the day.</td>\n",
       "    </tr>\n",
       "    <tr>\n",
       "      <th>4</th>\n",
       "      <td>2006-04-01 04:00:00.000 +0200</td>\n",
       "      <td>Mostly Cloudy</td>\n",
       "      <td>rain</td>\n",
       "      <td>8.755556</td>\n",
       "      <td>6.977778</td>\n",
       "      <td>0.83</td>\n",
       "      <td>11.0446</td>\n",
       "      <td>259.0</td>\n",
       "      <td>15.8263</td>\n",
       "      <td>0.0</td>\n",
       "      <td>1016.51</td>\n",
       "      <td>Partly cloudy throughout the day.</td>\n",
       "    </tr>\n",
       "    <tr>\n",
       "      <th>...</th>\n",
       "      <td>...</td>\n",
       "      <td>...</td>\n",
       "      <td>...</td>\n",
       "      <td>...</td>\n",
       "      <td>...</td>\n",
       "      <td>...</td>\n",
       "      <td>...</td>\n",
       "      <td>...</td>\n",
       "      <td>...</td>\n",
       "      <td>...</td>\n",
       "      <td>...</td>\n",
       "      <td>...</td>\n",
       "    </tr>\n",
       "    <tr>\n",
       "      <th>96448</th>\n",
       "      <td>2016-09-09 19:00:00.000 +0200</td>\n",
       "      <td>Partly Cloudy</td>\n",
       "      <td>rain</td>\n",
       "      <td>26.016667</td>\n",
       "      <td>26.016667</td>\n",
       "      <td>0.43</td>\n",
       "      <td>10.9963</td>\n",
       "      <td>31.0</td>\n",
       "      <td>16.1000</td>\n",
       "      <td>0.0</td>\n",
       "      <td>1014.36</td>\n",
       "      <td>Partly cloudy starting in the morning.</td>\n",
       "    </tr>\n",
       "    <tr>\n",
       "      <th>96449</th>\n",
       "      <td>2016-09-09 20:00:00.000 +0200</td>\n",
       "      <td>Partly Cloudy</td>\n",
       "      <td>rain</td>\n",
       "      <td>24.583333</td>\n",
       "      <td>24.583333</td>\n",
       "      <td>0.48</td>\n",
       "      <td>10.0947</td>\n",
       "      <td>20.0</td>\n",
       "      <td>15.5526</td>\n",
       "      <td>0.0</td>\n",
       "      <td>1015.16</td>\n",
       "      <td>Partly cloudy starting in the morning.</td>\n",
       "    </tr>\n",
       "    <tr>\n",
       "      <th>96450</th>\n",
       "      <td>2016-09-09 21:00:00.000 +0200</td>\n",
       "      <td>Partly Cloudy</td>\n",
       "      <td>rain</td>\n",
       "      <td>22.038889</td>\n",
       "      <td>22.038889</td>\n",
       "      <td>0.56</td>\n",
       "      <td>8.9838</td>\n",
       "      <td>30.0</td>\n",
       "      <td>16.1000</td>\n",
       "      <td>0.0</td>\n",
       "      <td>1015.66</td>\n",
       "      <td>Partly cloudy starting in the morning.</td>\n",
       "    </tr>\n",
       "    <tr>\n",
       "      <th>96451</th>\n",
       "      <td>2016-09-09 22:00:00.000 +0200</td>\n",
       "      <td>Partly Cloudy</td>\n",
       "      <td>rain</td>\n",
       "      <td>21.522222</td>\n",
       "      <td>21.522222</td>\n",
       "      <td>0.60</td>\n",
       "      <td>10.5294</td>\n",
       "      <td>20.0</td>\n",
       "      <td>16.1000</td>\n",
       "      <td>0.0</td>\n",
       "      <td>1015.95</td>\n",
       "      <td>Partly cloudy starting in the morning.</td>\n",
       "    </tr>\n",
       "    <tr>\n",
       "      <th>96452</th>\n",
       "      <td>2016-09-09 23:00:00.000 +0200</td>\n",
       "      <td>Partly Cloudy</td>\n",
       "      <td>rain</td>\n",
       "      <td>20.438889</td>\n",
       "      <td>20.438889</td>\n",
       "      <td>0.61</td>\n",
       "      <td>5.8765</td>\n",
       "      <td>39.0</td>\n",
       "      <td>15.5204</td>\n",
       "      <td>0.0</td>\n",
       "      <td>1016.16</td>\n",
       "      <td>Partly cloudy starting in the morning.</td>\n",
       "    </tr>\n",
       "  </tbody>\n",
       "</table>\n",
       "<p>96453 rows × 12 columns</p>\n",
       "</div>"
      ],
      "text/plain": [
       "                      Formatted Date        Summary Precip Type  \\\n",
       "0      2006-04-01 00:00:00.000 +0200  Partly Cloudy        rain   \n",
       "1      2006-04-01 01:00:00.000 +0200  Partly Cloudy        rain   \n",
       "2      2006-04-01 02:00:00.000 +0200  Mostly Cloudy        rain   \n",
       "3      2006-04-01 03:00:00.000 +0200  Partly Cloudy        rain   \n",
       "4      2006-04-01 04:00:00.000 +0200  Mostly Cloudy        rain   \n",
       "...                              ...            ...         ...   \n",
       "96448  2016-09-09 19:00:00.000 +0200  Partly Cloudy        rain   \n",
       "96449  2016-09-09 20:00:00.000 +0200  Partly Cloudy        rain   \n",
       "96450  2016-09-09 21:00:00.000 +0200  Partly Cloudy        rain   \n",
       "96451  2016-09-09 22:00:00.000 +0200  Partly Cloudy        rain   \n",
       "96452  2016-09-09 23:00:00.000 +0200  Partly Cloudy        rain   \n",
       "\n",
       "       Temperature (C)  Apparent Temperature (C)  Humidity  Wind Speed (km/h)  \\\n",
       "0             9.472222                  7.388889      0.89            14.1197   \n",
       "1             9.355556                  7.227778      0.86            14.2646   \n",
       "2             9.377778                  9.377778      0.89             3.9284   \n",
       "3             8.288889                  5.944444      0.83            14.1036   \n",
       "4             8.755556                  6.977778      0.83            11.0446   \n",
       "...                ...                       ...       ...                ...   \n",
       "96448        26.016667                 26.016667      0.43            10.9963   \n",
       "96449        24.583333                 24.583333      0.48            10.0947   \n",
       "96450        22.038889                 22.038889      0.56             8.9838   \n",
       "96451        21.522222                 21.522222      0.60            10.5294   \n",
       "96452        20.438889                 20.438889      0.61             5.8765   \n",
       "\n",
       "       Wind Bearing (degrees)  Visibility (km)  Loud Cover  \\\n",
       "0                       251.0          15.8263         0.0   \n",
       "1                       259.0          15.8263         0.0   \n",
       "2                       204.0          14.9569         0.0   \n",
       "3                       269.0          15.8263         0.0   \n",
       "4                       259.0          15.8263         0.0   \n",
       "...                       ...              ...         ...   \n",
       "96448                    31.0          16.1000         0.0   \n",
       "96449                    20.0          15.5526         0.0   \n",
       "96450                    30.0          16.1000         0.0   \n",
       "96451                    20.0          16.1000         0.0   \n",
       "96452                    39.0          15.5204         0.0   \n",
       "\n",
       "       Pressure (millibars)                           Daily Summary  \n",
       "0                   1015.13       Partly cloudy throughout the day.  \n",
       "1                   1015.63       Partly cloudy throughout the day.  \n",
       "2                   1015.94       Partly cloudy throughout the day.  \n",
       "3                   1016.41       Partly cloudy throughout the day.  \n",
       "4                   1016.51       Partly cloudy throughout the day.  \n",
       "...                     ...                                     ...  \n",
       "96448               1014.36  Partly cloudy starting in the morning.  \n",
       "96449               1015.16  Partly cloudy starting in the morning.  \n",
       "96450               1015.66  Partly cloudy starting in the morning.  \n",
       "96451               1015.95  Partly cloudy starting in the morning.  \n",
       "96452               1016.16  Partly cloudy starting in the morning.  \n",
       "\n",
       "[96453 rows x 12 columns]"
      ]
     },
     "execution_count": 10,
     "metadata": {},
     "output_type": "execute_result"
    }
   ],
   "source": [
    "data = pd.read_csv(\"./weatherHistory.csv\")\n",
    "data"
   ]
  },
  {
   "cell_type": "markdown",
   "metadata": {},
   "source": [
    "## Исследование датасета\n",
    "\n",
    "Попытаемся подробнее узнать что-то о данных:\n",
    "1. сколько у нас есть признаков?\n",
    "2. к какому типу они относятся? (категориальные, вещественнозначные)\n",
    "3. есть ли пропуски в данных?"
   ]
  },
  {
   "cell_type": "code",
   "execution_count": 32,
   "metadata": {},
   "outputs": [
    {
     "name": "stdout",
     "output_type": "stream",
     "text": [
      "Всего 12 признаков :\n",
      "['Formatted Date' 'Summary' 'Precip Type' 'Temperature (C)'\n",
      " 'Apparent Temperature (C)' 'Humidity' 'Wind Speed (km/h)'\n",
      " 'Wind Bearing (degrees)' 'Visibility (km)' 'Loud Cover'\n",
      " 'Pressure (millibars)' 'Daily Summary']\n"
     ]
    }
   ],
   "source": [
    "print(\"Всего %d признаков\" % len(data.columns), \":\")\n",
    "print(data.columns.values)"
   ]
  },
  {
   "cell_type": "code",
   "execution_count": 28,
   "metadata": {},
   "outputs": [
    {
     "name": "stdout",
     "output_type": "stream",
     "text": [
      "Среди них 8 вещественных\n"
     ]
    }
   ],
   "source": [
    "print(\"Среди них\", (data.dtypes == \"float64\").values.sum(), \"вещественных\")"
   ]
  },
  {
   "cell_type": "code",
   "execution_count": 42,
   "metadata": {},
   "outputs": [
    {
     "data": {
      "text/plain": [
       "Formatted Date                0\n",
       "Summary                       0\n",
       "Precip Type                 517\n",
       "Temperature (C)               0\n",
       "Apparent Temperature (C)      0\n",
       "Humidity                      0\n",
       "Wind Speed (km/h)             0\n",
       "Wind Bearing (degrees)        0\n",
       "Visibility (km)               0\n",
       "Loud Cover                    0\n",
       "Pressure (millibars)          0\n",
       "Daily Summary                 0\n",
       "dtype: int64"
      ]
     },
     "execution_count": 42,
     "metadata": {},
     "output_type": "execute_result"
    }
   ],
   "source": [
    "data.isna().sum()"
   ]
  },
  {
   "cell_type": "markdown",
   "metadata": {},
   "source": [
    "В данных есть пропуски. В признаке *Precip Type* 517 пропусков."
   ]
  },
  {
   "cell_type": "markdown",
   "metadata": {},
   "source": [
    "## Исследование отдельных признаков\n",
    "\n",
    "Теперь исследуем каждый признак в отдельности:\n",
    "\n",
    "1. какой диапазон у вещественнозначных признаков?\n",
    "2. сколько значений признаков у категориальных данных?"
   ]
  },
  {
   "cell_type": "code",
   "execution_count": 37,
   "metadata": {},
   "outputs": [
    {
     "name": "stdout",
     "output_type": "stream",
     "text": [
      "Число уникальных значений этого признака: 27\n"
     ]
    }
   ],
   "source": [
    "# Признак Summary\n",
    "\n",
    "print(\"Число уникальных значений этого признака:\", len(data.Summary.unique()))"
   ]
  },
  {
   "cell_type": "code",
   "execution_count": 44,
   "metadata": {},
   "outputs": [
    {
     "data": {
      "text/plain": [
       "array(['Partly Cloudy', 'Mostly Cloudy', 'Overcast', 'Foggy',\n",
       "       'Breezy and Mostly Cloudy', 'Clear', 'Breezy and Partly Cloudy',\n",
       "       'Breezy and Overcast', 'Humid and Mostly Cloudy',\n",
       "       'Humid and Partly Cloudy', 'Windy and Foggy', 'Windy and Overcast',\n",
       "       'Breezy and Foggy', 'Windy and Partly Cloudy', 'Breezy',\n",
       "       'Dry and Partly Cloudy', 'Windy and Mostly Cloudy',\n",
       "       'Dangerously Windy and Partly Cloudy', 'Dry', 'Windy',\n",
       "       'Humid and Overcast', 'Light Rain', 'Drizzle', 'Windy and Dry',\n",
       "       'Dry and Mostly Cloudy', 'Breezy and Dry', 'Rain'], dtype=object)"
      ]
     },
     "execution_count": 44,
     "metadata": {},
     "output_type": "execute_result"
    }
   ],
   "source": [
    "data.Summary.unique()"
   ]
  },
  {
   "cell_type": "markdown",
   "metadata": {},
   "source": [
    "Признак Summary содержит ключевые слова, описывающие погоду. Например, этот признак может говорить об уровне облачности, осадков, наличии тумана и т.д.\n",
    "\n",
    "Судя по всему этот признак составлялся с использованием людей. Поэтому если мы хотим создавать систему для автоматического предсказания некоторых значений на основе данных о погоде, то этот признак мы не можем использовать, т.к. его сбор потребует участие человека."
   ]
  },
  {
   "cell_type": "code",
   "execution_count": 50,
   "metadata": {},
   "outputs": [
    {
     "data": {
      "text/plain": [
       "array(['rain', 'snow', nan], dtype=object)"
      ]
     },
     "execution_count": 50,
     "metadata": {},
     "output_type": "execute_result"
    }
   ],
   "source": [
    "# Признак Precip Type\n",
    "\n",
    "data[\"Precip Type\"].unique()"
   ]
  },
  {
   "cell_type": "markdown",
   "metadata": {},
   "source": [
    "Признак *Precip Type* содержит информацию о виде осадков. Пропущенные значения могут говорить об отсутствии осадков, поэтому адекватным способом заполнения этих пропусков будет создание нового класса."
   ]
  },
  {
   "cell_type": "code",
   "execution_count": 57,
   "metadata": {},
   "outputs": [
    {
     "name": "stdout",
     "output_type": "stream",
     "text": [
      "Минимальная температура -21.82\n",
      "Максимальная температура 39.91\n",
      "Средняя температура 11.93\n",
      "Медиана температуры 12.00\n"
     ]
    }
   ],
   "source": [
    "# Признак Temperature (C)\n",
    "\n",
    "print(\"Минимальная температура %.2f\" % data[\"Temperature (C)\"].min())\n",
    "print(\"Максимальная температура %.2f\" % data[\"Temperature (C)\"].max())\n",
    "print(\"Средняя температура %.2f\" % data[\"Temperature (C)\"].mean())\n",
    "print(\"Медиана температуры %.2f\" % data[\"Temperature (C)\"].median())"
   ]
  },
  {
   "cell_type": "code",
   "execution_count": 79,
   "metadata": {},
   "outputs": [
    {
     "data": {
      "image/png": "[encoded data removed]",
      "text/plain": [
       "<Figure size 1080x360 with 1 Axes>"
      ]
     },
     "metadata": {
      "needs_background": "light"
     },
     "output_type": "display_data"
    }
   ],
   "source": [
    "def plot_hist(hist_data, **kwargs):\n",
    "    plt.figure(figsize=(15, 5))\n",
    "    plt.hist(hist_data, **kwargs)\n",
    "    plt.grid(True)\n",
    "    plt.show()\n",
    "    \n",
    "plot_hist(data[\"Temperature (C)\"].values, bins=50)"
   ]
  },
  {
   "cell_type": "code",
   "execution_count": 74,
   "metadata": {},
   "outputs": [
    {
     "data": {
      "text/plain": [
       "10.768975563227686"
      ]
     },
     "execution_count": 74,
     "metadata": {},
     "output_type": "execute_result"
    }
   ],
   "source": [
    "(data[\"Temperature (C)\"].values < -0).mean() * 100"
   ]
  },
  {
   "cell_type": "code",
   "execution_count": 83,
   "metadata": {},
   "outputs": [
    {
     "name": "stdout",
     "output_type": "stream",
     "text": [
      "Минимальная температура -27.72\n",
      "Максимальная температура 39.34\n",
      "Средняя температура 10.86\n",
      "Медиана температуры 12.00\n"
     ]
    },
    {
     "data": {
      "image/png": "[encoded data removed]",
      "text/plain": [
       "<Figure size 1080x360 with 1 Axes>"
      ]
     },
     "metadata": {
      "needs_background": "light"
     },
     "output_type": "display_data"
    }
   ],
   "source": [
    "# Apparent Temperature (C)\n",
    "\n",
    "print(\"Минимальная температура %.2f\" % data[\"Apparent Temperature (C)\"].min())\n",
    "print(\"Максимальная температура %.2f\" % data[\"Apparent Temperature (C)\"].max())\n",
    "print(\"Средняя температура %.2f\" % data[\"Apparent Temperature (C)\"].mean())\n",
    "print(\"Медиана температуры %.2f\" % data[\"Apparent Temperature (C)\"].median())\n",
    "\n",
    "plot_hist(data[\"Apparent Temperature (C)\"], bins=50)"
   ]
  },
  {
   "cell_type": "code",
   "execution_count": 89,
   "metadata": {},
   "outputs": [
    {
     "data": {
      "text/plain": [
       "array([0.])"
      ]
     },
     "execution_count": 89,
     "metadata": {},
     "output_type": "execute_result"
    }
   ],
   "source": [
    "# Loud Cover\n",
    "\n",
    "data[\"Loud Cover\"].unique()"
   ]
  },
  {
   "cell_type": "markdown",
   "metadata": {},
   "source": [
    "Loud Cover оказался бесполезным признаком. Он принимает только одно значение: 0.0. В дальнейшем его можно выбросить из рассмотрения"
   ]
  },
  {
   "cell_type": "markdown",
   "metadata": {},
   "source": [
    "## Исследование зависимости признаков\n",
    "\n",
    "Проанализируем, как имеющиеся вещественнозначные признаки связаны друг с другом:\n",
    "1. У каких признаков наиболее высокий модуль корреляции Пирсона друг с другом?\n",
    "2. У каких признаков наиболее высокий модуль корреляции Спирмена друг с другом?\n",
    "3. \n",
    "\n",
    "**Внимание:** здесь и далее разбейте выборку на обучающую, валидационную и тестовую. Тестовая выборка не должна использоваться ни при обучении, ни при  подборе гиперпараметров, ни при понижении исходного признакового пространства."
   ]
  },
  {
   "cell_type": "code",
   "execution_count": 118,
   "metadata": {},
   "outputs": [],
   "source": [
    "# Исключим константный признак\n",
    "data = data.drop(columns=\"Loud Cover\")\n",
    "\n",
    "# Разобьём данные на обучающую, валидационную и тестовую выборки\n",
    "X = data.drop(columns=\"Apparent Temperature (C)\").select_dtypes(include='number').to_numpy()\n",
    "y = data[\"Apparent Temperature (C)\"].to_numpy()\n",
    "\n",
    "features_names = data.drop(columns=\"Apparent Temperature (C)\").select_dtypes(include='number').columns"
   ]
  },
  {
   "cell_type": "code",
   "execution_count": 140,
   "metadata": {},
   "outputs": [
    {
     "data": {
      "text/plain": [
       "6"
      ]
     },
     "execution_count": 140,
     "metadata": {},
     "output_type": "execute_result"
    }
   ],
   "source": [
    "len(features_names)"
   ]
  },
  {
   "cell_type": "code",
   "execution_count": 119,
   "metadata": {},
   "outputs": [],
   "source": [
    "from sklearn.model_selection import train_test_split\n",
    "\n",
    "x_train, x_test, y_train, y_test = train_test_split(X, y, test_size=0.1, random_state=1337)\n",
    "x_train, x_valid, y_train, y_valid = train_test_split(x_train, y_train, test_size=0.1,\n",
    "                                                     random_state=1337)"
   ]
  },
  {
   "cell_type": "code",
   "execution_count": 135,
   "metadata": {},
   "outputs": [],
   "source": [
    "def calculate_feature_relationship(x, features_names, relationship_function):\n",
    "    relationship_info = []\n",
    "    for i, feature1_name in enumerate(features_names):\n",
    "        for j, feature2_name in enumerate(features_names):\n",
    "            if i > j:\n",
    "                relationship_info.append([relationship_function(x[:, i], x[:, j]),\n",
    "                                        feature1_name, feature2_name])\n",
    "    \n",
    "    def maximize_relationship(element):\n",
    "        return -abs(element[0][0])\n",
    "    relationship_info.sort(key=maximize_relationship)\n",
    "\n",
    "    return relationship_info"
   ]
  },
  {
   "cell_type": "code",
   "execution_count": 138,
   "metadata": {},
   "outputs": [
    {
     "data": {
      "text/plain": [
       "[[(-0.6322446568081479, 0.0), 'Humidity', 'Temperature (C)'],\n",
       " [(0.3931176143618101, 0.0), 'Visibility (km)', 'Temperature (C)'],\n",
       " [(-0.3696608603836532, 0.0), 'Visibility (km)', 'Humidity'],\n",
       " [(-0.22487251177643866, 0.0), 'Wind Speed (km/h)', 'Humidity'],\n",
       " [(0.10639619767084621, 1.964314567655715e-195),\n",
       "  'Wind Bearing (degrees)',\n",
       "  'Wind Speed (km/h)']]"
      ]
     },
     "execution_count": 138,
     "metadata": {},
     "output_type": "execute_result"
    }
   ],
   "source": [
    "from scipy.stats import pearsonr, spearmanr\n",
    "\n",
    "PLCC_relationship = calculate_feature_relationship(x_train, features_names, pearsonr)\n",
    "PLCC_relationship[:5]"
   ]
  },
  {
   "cell_type": "code",
   "execution_count": 139,
   "metadata": {},
   "outputs": [
    {
     "data": {
      "text/plain": [
       "[[SpearmanrResult(correlation=-0.588513856882921, pvalue=0.0),\n",
       "  'Humidity',\n",
       "  'Temperature (C)'],\n",
       " [SpearmanrResult(correlation=-0.4327313359484954, pvalue=0.0),\n",
       "  'Visibility (km)',\n",
       "  'Humidity'],\n",
       " [SpearmanrResult(correlation=0.39422693235156586, pvalue=0.0),\n",
       "  'Visibility (km)',\n",
       "  'Temperature (C)'],\n",
       " [SpearmanrResult(correlation=-0.3044755334812228, pvalue=0.0),\n",
       "  'Pressure (millibars)',\n",
       "  'Temperature (C)'],\n",
       " [SpearmanrResult(correlation=-0.2618795590578995, pvalue=0.0),\n",
       "  'Wind Speed (km/h)',\n",
       "  'Humidity']]"
      ]
     },
     "execution_count": 139,
     "metadata": {},
     "output_type": "execute_result"
    }
   ],
   "source": [
    "SROCC_relationship = calculate_feature_relationship(x_train, features_names, spearmanr)\n",
    "SROCC_relationship[:5]"
   ]
  },
  {
   "cell_type": "markdown",
   "metadata": {},
   "source": [
    "**Ответ:** наиболее высокую корреляцию (как Пирсона, так и Спирмена) показали признаки *Humidity* и *Temperature (C)*:\n",
    "* корреляция Пирсона у них -0.63\n",
    "* корреляция Спирмена у них -0.59\n",
    "\n",
    "Можно утверждать, что эти признаки имеют сильную (и даже линейную) зависимость. Они в некоторой степени (около 60%) обратнопропорциональны."
   ]
  },
  {
   "cell_type": "markdown",
   "metadata": {},
   "source": [
    "Теперь проанализируем, насколько сильно рассматриваемые признаки коррелируют с откликом."
   ]
  },
  {
   "cell_type": "code",
   "execution_count": 142,
   "metadata": {},
   "outputs": [],
   "source": [
    "def calculate_feature2answer_relationship(x, y, relationship_function):\n",
    "    relationship_info = []\n",
    "    for i, feature_name in enumerate(features_names):\n",
    "        relationship_info.append([relationship_function(x[:, i], y),\n",
    "                                        feature_name])\n",
    "    \n",
    "    def maximize_relationship(element):\n",
    "        return -abs(element[0][0])\n",
    "    relationship_info.sort(key=maximize_relationship)\n",
    "\n",
    "    return relationship_info"
   ]
  },
  {
   "cell_type": "code",
   "execution_count": 143,
   "metadata": {},
   "outputs": [
    {
     "data": {
      "text/plain": [
       "[[(0.9926285475189116, 0.0), 'Temperature (C)'],\n",
       " [(-0.6026267945009005, 0.0), 'Humidity'],\n",
       " [(0.38203098299110894, 0.0), 'Visibility (km)'],\n",
       " [(-0.056329324641736886, 6.159556203549141e-56), 'Wind Speed (km/h)'],\n",
       " [(0.029882818501557912, 6.582908670071756e-17), 'Wind Bearing (degrees)'],\n",
       " [(4.312195117560456e-05, 0.9903834609732657), 'Pressure (millibars)']]"
      ]
     },
     "execution_count": 143,
     "metadata": {},
     "output_type": "execute_result"
    }
   ],
   "source": [
    "PLCC_relations_with_answer = calculate_feature2answer_relationship(x_train, y_train, pearsonr)\n",
    "PLCC_relations_with_answer"
   ]
  },
  {
   "cell_type": "code",
   "execution_count": 144,
   "metadata": {},
   "outputs": [
    {
     "data": {
      "text/plain": [
       "[[SpearmanrResult(correlation=0.9960096541552972, pvalue=0.0),\n",
       "  'Temperature (C)'],\n",
       " [SpearmanrResult(correlation=-0.5731141680947679, pvalue=0.0), 'Humidity'],\n",
       " [SpearmanrResult(correlation=0.37861235206676663, pvalue=0.0),\n",
       "  'Visibility (km)'],\n",
       " [SpearmanrResult(correlation=-0.2837072304197717, pvalue=0.0),\n",
       "  'Pressure (millibars)'],\n",
       " [SpearmanrResult(correlation=-0.03927471612235646, pvalue=4.677821719519535e-28),\n",
       "  'Wind Speed (km/h)'],\n",
       " [SpearmanrResult(correlation=0.028159807673744396, pvalue=3.479268308414469e-15),\n",
       "  'Wind Bearing (degrees)']]"
      ]
     },
     "execution_count": 144,
     "metadata": {},
     "output_type": "execute_result"
    }
   ],
   "source": [
    "SROCC_relations_with_answer = calculate_feature2answer_relationship(x_train, y_train, spearmanr)\n",
    "SROCC_relations_with_answer"
   ]
  },
  {
   "cell_type": "markdown",
   "metadata": {},
   "source": [
    "**Ответ:** наибольшая корреляция у *ощущаемой температуры* с признаком *температура*, что вполне понятно. В дальнейшем при обучении модели нужно будет убрать признак *температура*, потому что с ним обучение имеет мало смысла (можно обучить линейную регрессию только с признаком *температура* и получить великолепную точность)."
   ]
  },
  {
   "cell_type": "code",
   "execution_count": 149,
   "metadata": {},
   "outputs": [
    {
     "data": {
      "text/plain": [
       "Index(['Temperature (C)', 'Humidity', 'Wind Speed (km/h)',\n",
       "       'Wind Bearing (degrees)', 'Visibility (km)', 'Pressure (millibars)'],\n",
       "      dtype='object')"
      ]
     },
     "execution_count": 149,
     "metadata": {},
     "output_type": "execute_result"
    }
   ],
   "source": [
    "features_names"
   ]
  },
  {
   "cell_type": "code",
   "execution_count": 150,
   "metadata": {},
   "outputs": [],
   "source": [
    "x_train = x_train[:, 1:]\n",
    "x_valid = x_valid[:, 1:]\n",
    "x_test = x_test[:, 1:]"
   ]
  },
  {
   "cell_type": "markdown",
   "metadata": {},
   "source": [
    "## Обучение линейной регрессии\n",
    "\n",
    "В этом разделе мы обучим линейную регрессию на вещественных признаках. Ранее мы убрали один наиболее скоррелированный с откликом признак *температура*. Теперь осталось 5 признаков. На них нужно:\n",
    "1. Обучить линейную регрессию\n",
    "2. Замерить качество на обучающей и валидационной выборке с помощью MSE и [R-square](https://scikit-learn.org/stable/modules/model_evaluation.html#r2-score)\n",
    "3. Попробуйте использовать встроенную в sklearn.linear_model.LinearRegression возможность нормализации данных. Улучшилось ли качество модели?"
   ]
  },
  {
   "cell_type": "code",
   "execution_count": 151,
   "metadata": {},
   "outputs": [
    {
     "name": "stdout",
     "output_type": "stream",
     "text": [
      "Обучающая выборка:\n",
      "MSE == 64.76070829571213 \n",
      "R2 ==  -0.300001251828101\n",
      "Валидационная выборка:\n",
      "MSE == 64.05717349993158 \n",
      "R2 ==  -0.31324686021317727\n"
     ]
    }
   ],
   "source": [
    "from sklearn.linear_model import LinearRegression\n",
    "from sklearn.metrics import mean_squared_error, r2_score\n",
    "\n",
    "linear_reg_model = LinearRegression()\n",
    "\n",
    "linear_reg_model.fit(x_train, y_train)\n",
    "baseline_train_pred = linear_reg_model.predict(x_train)\n",
    "baseline_train_mse = mean_squared_error(baseline_train_pred, y_train)\n",
    "baseline_train_r2 = r2_score(baseline_train_pred, y_train)\n",
    "baseline_valid_pred = linear_reg_model.predict(x_valid)\n",
    "baseline_valid_mse = mean_squared_error(baseline_valid_pred, y_valid)\n",
    "baseline_valid_r2 = r2_score(baseline_valid_pred, y_valid)\n",
    "\n",
    "\n",
    "print(\"Обучающая выборка:\\nMSE ==\", baseline_train_mse, \"\\nR2 == \", baseline_train_r2)\n",
    "print(\"Валидационная выборка:\\nMSE ==\", baseline_valid_mse, \"\\nR2 == \", baseline_valid_r2)"
   ]
  },
  {
   "cell_type": "code",
   "execution_count": 152,
   "metadata": {},
   "outputs": [
    {
     "name": "stdout",
     "output_type": "stream",
     "text": [
      "Обучающая выборка:\n",
      "MSE == 64.76070829571212 \n",
      "R2 ==  -0.300001251828121\n",
      "Валидационная выборка:\n",
      "MSE == 64.0571734999316 \n",
      "R2 ==  -0.31324686021319836\n"
     ]
    }
   ],
   "source": [
    "linear_reg_model_normalized = LinearRegression(normalize=True)\n",
    "\n",
    "linear_reg_model_normalized.fit(x_train, y_train)\n",
    "normalized_train_pred = linear_reg_model_normalized.predict(x_train)\n",
    "normalized_train_mse = mean_squared_error(normalized_train_pred, y_train)\n",
    "normalized_train_r2 = r2_score(normalized_train_pred, y_train)\n",
    "normalized_valid_pred = linear_reg_model_normalized.predict(x_valid)\n",
    "normalized_valid_mse = mean_squared_error(normalized_valid_pred, y_valid)\n",
    "normalized_valid_r2 = r2_score(normalized_valid_pred, y_valid)\n",
    "\n",
    "\n",
    "print(\"Обучающая выборка:\\nMSE ==\", normalized_train_mse, \"\\nR2 == \", normalized_train_r2)\n",
    "print(\"Валидационная выборка:\\nMSE ==\", normalized_valid_mse, \"\\nR2 == \", normalized_valid_r2)"
   ]
  },
  {
   "cell_type": "markdown",
   "metadata": {},
   "source": [
    "**Ответ:**\n",
    "1. Линейная регрессия обучилась, судя по всему, не очень хорошо. Я изначально случайно обучил её, не убрав признак *температура*, и это дало MSE около нуля и R2 близкий к единице. А без этого признака MSE 64, а R2 -0.3.\n",
    "2. Нормализация признаков не дала вообще ничего. Качество изменилось крайне незначительно (разница видна только в районе 10 знака после запятой, и то это может быть связано с ошибкой округления)."
   ]
  },
  {
   "cell_type": "markdown",
   "metadata": {},
   "source": [
    "## Исследование зависимости точности модели от размера обучающей выборки\n",
    "\n",
    "Попробуем обучить модель, используя одну и ту же тестовую выборку, но используя различные обучающие выборки разного размера. При этом при фиксированном размере обучающей выборки необходимо производить несколько различных сэмплирований объектов этой выборки, чтобы усреднить результаты и уменьшить влияние случайности на результат.\n",
    "\n",
    "1. Как зависит качество предсказания модели на тестовой выборке от размера используемой обучающей выборки?\n",
    "2. Как зависит качество предсказания модели на обучающей выборке от размера используемой обучающей выборки?\n",
    "3. Постройте графики зависимости величин из предыдущих 2-х пунктов от размера обучающей выборки.\n",
    "4. Попробуйте использовать выбор обучающей подвыборки с/без стратификации по значению отклика. Постройте графики зависимостей качества моделей на тесте от размера выборки. Сравните эти графики. Есть ли разница?\n",
    "5. Качество измеряйте двумя величинами: MSE и [R-square](https://scikit-learn.org/stable/modules/model_evaluation.html#r2-score)"
   ]
  },
  {
   "cell_type": "code",
   "execution_count": 170,
   "metadata": {},
   "outputs": [
    {
     "data": {
      "application/vnd.jupyter.widget-view+json": {
       "model_id": "c598b6cf3ee5471ea501c0055cdd9614",
       "version_major": 2,
       "version_minor": 0
      },
      "text/plain": [
       "HBox(children=(HTML(value=''), FloatProgress(value=0.0, max=15.0), HTML(value='')))"
      ]
     },
     "metadata": {},
     "output_type": "display_data"
    },
    {
     "name": "stdout",
     "output_type": "stream",
     "text": [
      "\n"
     ]
    }
   ],
   "source": [
    "from tqdm.notebook import tqdm\n",
    "\n",
    "train_sizes = [0.01, 0.02, 0.03, 0.04, 0.05, 0.1, 0.2, 0.3, 0.4, 0.5, 0.6, 0.7, 0.8, 0.9, 0.99]\n",
    "\n",
    "all_train_mse_results = []\n",
    "all_train_r2_results = []\n",
    "all_valid_mse_results = []\n",
    "all_valid_r2_results = []\n",
    "\n",
    "\n",
    "for train_size in tqdm(train_sizes):\n",
    "    current_train_mse_results = []\n",
    "    current_train_r2_results = []\n",
    "    current_valid_mse_results = []\n",
    "    current_valid_r2_results = []\n",
    "\n",
    "    for random_seed in range(100):\n",
    "        cur_x_train,  _, cur_y_train, _ = train_test_split(x_train, y_train,\n",
    "                                                    train_size=train_size,\n",
    "                                                    random_state=random_seed+1)\n",
    "        linear_reg_model = LinearRegression()\n",
    "\n",
    "        linear_reg_model.fit(cur_x_train, cur_y_train)\n",
    "        \n",
    "        baseline_train_pred = linear_reg_model.predict(cur_x_train)\n",
    "        baseline_train_mse = mean_squared_error(baseline_train_pred, cur_y_train)\n",
    "        baseline_train_r2 = r2_score(baseline_train_pred, cur_y_train)\n",
    "        baseline_valid_pred = linear_reg_model.predict(x_valid)\n",
    "        baseline_valid_mse = mean_squared_error(baseline_valid_pred, y_valid)\n",
    "        baseline_valid_r2 = r2_score(baseline_valid_pred, y_valid)\n",
    "\n",
    "        current_train_mse_results.append(baseline_train_mse)\n",
    "        current_valid_mse_results.append(baseline_valid_mse)\n",
    "        current_train_r2_results.append(baseline_train_r2)\n",
    "        current_valid_r2_results.append(baseline_valid_r2)\n",
    "\n",
    "    all_train_mse_results.append(sum(current_train_mse_results)/len(current_train_mse_results))\n",
    "    all_train_r2_results.append(sum(current_train_r2_results)/len(current_train_r2_results))\n",
    "    all_valid_mse_results.append(sum(current_valid_mse_results)/len(current_valid_mse_results))\n",
    "    all_valid_r2_results.append(sum(current_valid_r2_results)/len(current_valid_r2_results))"
   ]
  },
  {
   "cell_type": "code",
   "execution_count": 171,
   "metadata": {},
   "outputs": [
    {
     "data": {
      "text/plain": [
       "<function matplotlib.pyplot.show(close=None, block=None)>"
      ]
     },
     "execution_count": 171,
     "metadata": {},
     "output_type": "execute_result"
    },
    {
     "data": {
      "image/png": "[encoded data removed]",
      "text/plain": [
       "<Figure size 1080x504 with 1 Axes>"
      ]
     },
     "metadata": {
      "needs_background": "light"
     },
     "output_type": "display_data"
    }
   ],
   "source": [
    "import matplotlib.pyplot as plt\n",
    "\n",
    "plt.figure(figsize=(15, 7))\n",
    "plt.plot(train_sizes, all_train_mse_results, label=\"MSE на обучающей выборке\")\n",
    "plt.plot(train_sizes, all_valid_mse_results, label=\"MSE на валидационной выборке\")\n",
    "\n",
    "plt.legend(fontsize=16)\n",
    "plt.title(\"Зависимость качества модели от размера обучающей выборки\", fontsize=20)\n",
    "plt.ylabel(\"MSE\", fontsize=15)\n",
    "plt.xlabel(\"Размер обучающей выборки\", fontsize=15)\n",
    "plt.grid(True)\n",
    "plt.show"
   ]
  },
  {
   "cell_type": "code",
   "execution_count": 172,
   "metadata": {},
   "outputs": [
    {
     "data": {
      "text/plain": [
       "<function matplotlib.pyplot.show(close=None, block=None)>"
      ]
     },
     "execution_count": 172,
     "metadata": {},
     "output_type": "execute_result"
    },
    {
     "data": {
      "image/png": "[encoded data removed]",
      "text/plain": [
       "<Figure size 1080x504 with 1 Axes>"
      ]
     },
     "metadata": {
      "needs_background": "light"
     },
     "output_type": "display_data"
    }
   ],
   "source": [
    "import matplotlib.pyplot as plt\n",
    "\n",
    "plt.figure(figsize=(15, 7))\n",
    "plt.plot(train_sizes, all_train_r2_results, label=\"R2 на обучающей выборке\")\n",
    "plt.plot(train_sizes, all_valid_r2_results, label=\"R2 на валидационной выборке\")\n",
    "\n",
    "plt.legend(fontsize=16)\n",
    "plt.title(\"Зависимость качества модели от размера обучающей выборки\", fontsize=20)\n",
    "plt.ylabel(\"R2\", fontsize=15)\n",
    "plt.xlabel(\"Размер обучающей выборки\", fontsize=15)\n",
    "plt.grid(True)\n",
    "plt.show"
   ]
  },
  {
   "cell_type": "markdown",
   "metadata": {},
   "source": [
    "## Идеи для следующих ноутбуков\n",
    "1. Исследовать влияние предварительной нормализации данных на качество различных моделей:\n",
    "    1. Использовать различные типы моделей: линейную регрессию, логистическую регрессию, KNN, деревья\n",
    "    2. Сравнить различные способы нормализации данных. Напр., вычитание среднего и деление на стандартное отклонение. Или вычитание минимального значения и деление на разницу максимального и минимального значения. Или комбинацию этих методов (вычитание среднего и деление на разницу максимального и минимального значения). Или во всех предыдущих методах, где есть среднее, заменить его на медиану (а стандартное отклонение заменить на его аналог, использующий медиану, т.е. медиана от модуля разницы признака и медианного значения признак).\n",
    "    3. Приведение распределения признака к равномерному с помощью нелинейного преобразования признаков. Описано [Здесь на 1:18:00](https://www.youtube.com/watch?v=aCnuXfWdxVU&list=PLVF5PzSHILHR5d-stEZxHnxE8pr8_m9Ai&index=6)\n",
    "    "
   ]
  },
  {
   "cell_type": "code",
   "execution_count": null,
   "metadata": {},
   "outputs": [],
   "source": []
  }
 ],
 "metadata": {
  "kernelspec": {
   "display_name": "Python 3",
   "language": "python",
   "name": "python3"
  },
  "language_info": {
   "codemirror_mode": {
    "name": "ipython",
    "version": 3
   },
   "file_extension": ".py",
   "mimetype": "text/x-python",
   "name": "python",
   "nbconvert_exporter": "python",
   "pygments_lexer": "ipython3",
   "version": "3.7.9"
  }
 },
 "nbformat": 4,
 "nbformat_minor": 4
}
